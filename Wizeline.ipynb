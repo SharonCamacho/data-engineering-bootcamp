{
  "nbformat": 4,
  "nbformat_minor": 0,
  "metadata": {
    "colab": {
      "name": "Wizeline.ipynb",
      "provenance": [],
      "authorship_tag": "ABX9TyP0B4JFWjSGBFr79KdhDPZD",
      "include_colab_link": true
    },
    "kernelspec": {
      "name": "python3",
      "display_name": "Python 3"
    },
    "language_info": {
      "name": "python"
    },
    "accelerator": "TPU"
  },
  "cells": [
    {
      "cell_type": "markdown",
      "metadata": {
        "id": "view-in-github",
        "colab_type": "text"
      },
      "source": [
        "<a href=\"https://colab.research.google.com/github/SharonCamacho/data-engineering-bootcamp/blob/main/Wizeline.ipynb\" target=\"_parent\"><img src=\"https://colab.research.google.com/assets/colab-badge.svg\" alt=\"Open In Colab\"/></a>"
      ]
    },
    {
      "cell_type": "code",
      "metadata": {
        "id": "s8B77C1kJl9y"
      },
      "source": [
        "import pandas as pd"
      ],
      "execution_count": 9,
      "outputs": []
    },
    {
      "cell_type": "markdown",
      "metadata": {
        "id": "Qn6kPomBCeDK"
      },
      "source": [
        "# Análisis inicial"
      ]
    },
    {
      "cell_type": "code",
      "metadata": {
        "id": "7MCv5fWBgO2v"
      },
      "source": [
        "#Se leen los datos\n",
        "data = pd.read_csv('sample.csv')"
      ],
      "execution_count": 10,
      "outputs": []
    },
    {
      "cell_type": "code",
      "metadata": {
        "id": "AalqK8IjgWYD",
        "colab": {
          "base_uri": "https://localhost:8080/",
          "height": 0
        },
        "outputId": "fe09b36d-ed36-4412-c763-e3de5279b30e"
      },
      "source": [
        "#Se visualizan las 5 primeras columnas\n",
        "data.head()"
      ],
      "execution_count": 11,
      "outputs": [
        {
          "output_type": "execute_result",
          "data": {
            "text/html": [
              "<div>\n",
              "<style scoped>\n",
              "    .dataframe tbody tr th:only-of-type {\n",
              "        vertical-align: middle;\n",
              "    }\n",
              "\n",
              "    .dataframe tbody tr th {\n",
              "        vertical-align: top;\n",
              "    }\n",
              "\n",
              "    .dataframe thead th {\n",
              "        text-align: right;\n",
              "    }\n",
              "</style>\n",
              "<table border=\"1\" class=\"dataframe\">\n",
              "  <thead>\n",
              "    <tr style=\"text-align: right;\">\n",
              "      <th></th>\n",
              "      <th>producto</th>\n",
              "      <th>presentacion</th>\n",
              "      <th>marca</th>\n",
              "      <th>categoria</th>\n",
              "      <th>catalogo</th>\n",
              "      <th>precio</th>\n",
              "      <th>fechaRegistro</th>\n",
              "      <th>cadenaComercial</th>\n",
              "      <th>giro</th>\n",
              "      <th>nombreComercial</th>\n",
              "      <th>direccion</th>\n",
              "      <th>estado</th>\n",
              "      <th>municipio</th>\n",
              "      <th>latitud</th>\n",
              "      <th>longitud</th>\n",
              "    </tr>\n",
              "  </thead>\n",
              "  <tbody>\n",
              "    <tr>\n",
              "      <th>0</th>\n",
              "      <td>CUADERNO FORMA ITALIANA</td>\n",
              "      <td>96 HOJAS PASTA DURA. CUADRICULA CHICA</td>\n",
              "      <td>ESTRELLA</td>\n",
              "      <td>MATERIAL ESCOLAR</td>\n",
              "      <td>UTILES ESCOLARES</td>\n",
              "      <td>25.9</td>\n",
              "      <td>2011-05-18 00:00:00.000</td>\n",
              "      <td>ABASTECEDORA LUMEN</td>\n",
              "      <td>PAPELERIAS</td>\n",
              "      <td>ABASTECEDORA LUMEN SUCURSAL VILLA COAPA</td>\n",
              "      <td>CANNES No. 6 ESQ. CANAL DE MIRAMONTES</td>\n",
              "      <td>DISTRITO FEDERAL</td>\n",
              "      <td>TLALPAN</td>\n",
              "      <td>19.29699</td>\n",
              "      <td>-99.125417</td>\n",
              "    </tr>\n",
              "    <tr>\n",
              "      <th>1</th>\n",
              "      <td>CRAYONES</td>\n",
              "      <td>CAJA 12 CERAS. JUMBO. C.B. 201423</td>\n",
              "      <td>CRAYOLA</td>\n",
              "      <td>MATERIAL ESCOLAR</td>\n",
              "      <td>UTILES ESCOLARES</td>\n",
              "      <td>27.5</td>\n",
              "      <td>2011-05-18 00:00:00.000</td>\n",
              "      <td>ABASTECEDORA LUMEN</td>\n",
              "      <td>PAPELERIAS</td>\n",
              "      <td>ABASTECEDORA LUMEN SUCURSAL VILLA COAPA</td>\n",
              "      <td>CANNES No. 6 ESQ. CANAL DE MIRAMONTES</td>\n",
              "      <td>DISTRITO FEDERAL</td>\n",
              "      <td>TLALPAN</td>\n",
              "      <td>19.29699</td>\n",
              "      <td>-99.125417</td>\n",
              "    </tr>\n",
              "    <tr>\n",
              "      <th>2</th>\n",
              "      <td>CRAYONES</td>\n",
              "      <td>CAJA 12 CERAS. TAMANO REGULAR C.B. 201034</td>\n",
              "      <td>CRAYOLA</td>\n",
              "      <td>MATERIAL ESCOLAR</td>\n",
              "      <td>UTILES ESCOLARES</td>\n",
              "      <td>13.9</td>\n",
              "      <td>2011-05-18 00:00:00.000</td>\n",
              "      <td>ABASTECEDORA LUMEN</td>\n",
              "      <td>PAPELERIAS</td>\n",
              "      <td>ABASTECEDORA LUMEN SUCURSAL VILLA COAPA</td>\n",
              "      <td>CANNES No. 6 ESQ. CANAL DE MIRAMONTES</td>\n",
              "      <td>DISTRITO FEDERAL</td>\n",
              "      <td>TLALPAN</td>\n",
              "      <td>19.29699</td>\n",
              "      <td>-99.125417</td>\n",
              "    </tr>\n",
              "    <tr>\n",
              "      <th>3</th>\n",
              "      <td>COLORES DE MADERA</td>\n",
              "      <td>CAJA 12 PIEZAS LARGO. TRIANGULAR. C.B. 640646</td>\n",
              "      <td>PINCELIN</td>\n",
              "      <td>MATERIAL ESCOLAR</td>\n",
              "      <td>UTILES ESCOLARES</td>\n",
              "      <td>46.9</td>\n",
              "      <td>2011-05-18 00:00:00.000</td>\n",
              "      <td>ABASTECEDORA LUMEN</td>\n",
              "      <td>PAPELERIAS</td>\n",
              "      <td>ABASTECEDORA LUMEN SUCURSAL VILLA COAPA</td>\n",
              "      <td>CANNES No. 6 ESQ. CANAL DE MIRAMONTES</td>\n",
              "      <td>DISTRITO FEDERAL</td>\n",
              "      <td>TLALPAN</td>\n",
              "      <td>19.29699</td>\n",
              "      <td>-99.125417</td>\n",
              "    </tr>\n",
              "    <tr>\n",
              "      <th>4</th>\n",
              "      <td>COLOR LARGO</td>\n",
              "      <td>CAJA 36 PIEZAS. CON SACAPUNTAS. 68-4036</td>\n",
              "      <td>CRAYOLA</td>\n",
              "      <td>MATERIAL ESCOLAR</td>\n",
              "      <td>UTILES ESCOLARES</td>\n",
              "      <td>115.0</td>\n",
              "      <td>2011-05-18 00:00:00.000</td>\n",
              "      <td>ABASTECEDORA LUMEN</td>\n",
              "      <td>PAPELERIAS</td>\n",
              "      <td>ABASTECEDORA LUMEN SUCURSAL VILLA COAPA</td>\n",
              "      <td>CANNES No. 6 ESQ. CANAL DE MIRAMONTES</td>\n",
              "      <td>DISTRITO FEDERAL</td>\n",
              "      <td>TLALPAN</td>\n",
              "      <td>19.29699</td>\n",
              "      <td>-99.125417</td>\n",
              "    </tr>\n",
              "  </tbody>\n",
              "</table>\n",
              "</div>"
            ],
            "text/plain": [
              "                  producto  ...   longitud\n",
              "0  CUADERNO FORMA ITALIANA  ... -99.125417\n",
              "1                 CRAYONES  ... -99.125417\n",
              "2                 CRAYONES  ... -99.125417\n",
              "3        COLORES DE MADERA  ... -99.125417\n",
              "4              COLOR LARGO  ... -99.125417\n",
              "\n",
              "[5 rows x 15 columns]"
            ]
          },
          "metadata": {},
          "execution_count": 11
        }
      ]
    },
    {
      "cell_type": "code",
      "metadata": {
        "id": "8v-KmEQ6gaLc",
        "colab": {
          "base_uri": "https://localhost:8080/"
        },
        "outputId": "25ee0bd7-5610-4fda-a427-45b23aac42ce"
      },
      "source": [
        "#Se mira la informacion del set de datos \n",
        "#número de columnas y filas, nombre de las columnas, datos nulos (en las columnas latitud y longitud), tipos de datos\n",
        "data.info()"
      ],
      "execution_count": 12,
      "outputs": [
        {
          "output_type": "stream",
          "name": "stdout",
          "text": [
            "<class 'pandas.core.frame.DataFrame'>\n",
            "RangeIndex: 1999 entries, 0 to 1998\n",
            "Data columns (total 15 columns):\n",
            " #   Column           Non-Null Count  Dtype  \n",
            "---  ------           --------------  -----  \n",
            " 0   producto         1999 non-null   object \n",
            " 1   presentacion     1999 non-null   object \n",
            " 2   marca            1999 non-null   object \n",
            " 3   categoria        1999 non-null   object \n",
            " 4   catalogo         1999 non-null   object \n",
            " 5   precio           1999 non-null   float64\n",
            " 6   fechaRegistro    1999 non-null   object \n",
            " 7   cadenaComercial  1999 non-null   object \n",
            " 8   giro             1999 non-null   object \n",
            " 9   nombreComercial  1999 non-null   object \n",
            " 10  direccion        1999 non-null   object \n",
            " 11  estado           1999 non-null   object \n",
            " 12  municipio        1999 non-null   object \n",
            " 13  latitud          1229 non-null   float64\n",
            " 14  longitud         1229 non-null   float64\n",
            "dtypes: float64(3), object(12)\n",
            "memory usage: 234.4+ KB\n"
          ]
        }
      ]
    },
    {
      "cell_type": "code",
      "metadata": {
        "id": "oa7_iI3LhYbV"
      },
      "source": [
        "#Se limpian los espacios de la columna municio\n",
        "data['municipio'] = data['municipio'].str.replace(' ','')"
      ],
      "execution_count": 13,
      "outputs": []
    },
    {
      "cell_type": "code",
      "metadata": {
        "id": "xu6BWKdinj1t",
        "colab": {
          "base_uri": "https://localhost:8080/"
        },
        "outputId": "4081a120-2693-4f9a-9f29-1f7df73874be"
      },
      "source": [
        "#Se valida cuales municipios tienen la longitud nula\n",
        "data[data['longitud'].isnull()].municipio.unique()"
      ],
      "execution_count": 14,
      "outputs": [
        {
          "output_type": "execute_result",
          "data": {
            "text/plain": [
              "array(['ATIZAPAN'], dtype=object)"
            ]
          },
          "metadata": {},
          "execution_count": 14
        }
      ]
    },
    {
      "cell_type": "code",
      "metadata": {
        "id": "BZl1kC85nY1x",
        "colab": {
          "base_uri": "https://localhost:8080/"
        },
        "outputId": "5e4d8428-0790-4ca3-c8b3-7b7b4ab9d33d"
      },
      "source": [
        "#Se valida cuales municipios tienen la latitud nula\n",
        "data[data['latitud'].isnull()].municipio.unique()"
      ],
      "execution_count": 15,
      "outputs": [
        {
          "output_type": "execute_result",
          "data": {
            "text/plain": [
              "array(['ATIZAPAN'], dtype=object)"
            ]
          },
          "metadata": {},
          "execution_count": 15
        }
      ]
    },
    {
      "cell_type": "code",
      "metadata": {
        "id": "ML0gblJ6ouzr"
      },
      "source": [
        "#Se completa la información de latitud y longitud de dataset\n",
        "data['latitud'] = data['latitud'].fillna(19.5562)\n",
        "data['longitud'] = data['longitud'].fillna(-99.2675)"
      ],
      "execution_count": 16,
      "outputs": []
    },
    {
      "cell_type": "code",
      "metadata": {
        "id": "tDpKJZ8mhF2f",
        "colab": {
          "base_uri": "https://localhost:8080/",
          "height": 0
        },
        "outputId": "4adeb15b-210f-4ae0-a9dc-50fca5e70a2a"
      },
      "source": [
        "#Se valida que se completó la información \n",
        "data[data['municipio']== 'ATIZAPAN'].head(3)"
      ],
      "execution_count": 17,
      "outputs": [
        {
          "output_type": "execute_result",
          "data": {
            "text/html": [
              "<div>\n",
              "<style scoped>\n",
              "    .dataframe tbody tr th:only-of-type {\n",
              "        vertical-align: middle;\n",
              "    }\n",
              "\n",
              "    .dataframe tbody tr th {\n",
              "        vertical-align: top;\n",
              "    }\n",
              "\n",
              "    .dataframe thead th {\n",
              "        text-align: right;\n",
              "    }\n",
              "</style>\n",
              "<table border=\"1\" class=\"dataframe\">\n",
              "  <thead>\n",
              "    <tr style=\"text-align: right;\">\n",
              "      <th></th>\n",
              "      <th>producto</th>\n",
              "      <th>presentacion</th>\n",
              "      <th>marca</th>\n",
              "      <th>categoria</th>\n",
              "      <th>catalogo</th>\n",
              "      <th>precio</th>\n",
              "      <th>fechaRegistro</th>\n",
              "      <th>cadenaComercial</th>\n",
              "      <th>giro</th>\n",
              "      <th>nombreComercial</th>\n",
              "      <th>direccion</th>\n",
              "      <th>estado</th>\n",
              "      <th>municipio</th>\n",
              "      <th>latitud</th>\n",
              "      <th>longitud</th>\n",
              "    </tr>\n",
              "  </thead>\n",
              "  <tbody>\n",
              "    <tr>\n",
              "      <th>9</th>\n",
              "      <td>PAN BLANCO BOLILLO</td>\n",
              "      <td>PIEZA</td>\n",
              "      <td>S/M</td>\n",
              "      <td>PAN</td>\n",
              "      <td>BASICOS</td>\n",
              "      <td>1.20</td>\n",
              "      <td>2011-01-10 00:00:00.000</td>\n",
              "      <td>COMERCIAL MEXICANA</td>\n",
              "      <td>TIENDA DE AUTOSERVICIO</td>\n",
              "      <td>COMERCIAL MEXICANA SUCURSAL VILLAS DE LA HACIENDA</td>\n",
              "      <td>AV. LAGO DE GUADALUPE S/N ESQ. DE LAS VILLAS</td>\n",
              "      <td>MÉXICO</td>\n",
              "      <td>ATIZAPAN</td>\n",
              "      <td>19.5562</td>\n",
              "      <td>-99.2675</td>\n",
              "    </tr>\n",
              "    <tr>\n",
              "      <th>10</th>\n",
              "      <td>HARINA HOT CAKES</td>\n",
              "      <td>CAJA 800 GR.</td>\n",
              "      <td>PRONTO TRADICIONALES</td>\n",
              "      <td>GALLETAS PASTAS Y HARINAS DE TRIGO</td>\n",
              "      <td>BASICOS</td>\n",
              "      <td>21.63</td>\n",
              "      <td>2011-01-10 00:00:00.000</td>\n",
              "      <td>COMERCIAL MEXICANA</td>\n",
              "      <td>TIENDA DE AUTOSERVICIO</td>\n",
              "      <td>COMERCIAL MEXICANA SUCURSAL VILLAS DE LA HACIENDA</td>\n",
              "      <td>AV. LAGO DE GUADALUPE S/N ESQ. DE LAS VILLAS</td>\n",
              "      <td>MÉXICO</td>\n",
              "      <td>ATIZAPAN</td>\n",
              "      <td>19.5562</td>\n",
              "      <td>-99.2675</td>\n",
              "    </tr>\n",
              "    <tr>\n",
              "      <th>11</th>\n",
              "      <td>PASTA PARA SOPA</td>\n",
              "      <td>PAQUETE 200 GR. SPAGHETTI</td>\n",
              "      <td>VESTA</td>\n",
              "      <td>GALLETAS PASTAS Y HARINAS DE TRIGO</td>\n",
              "      <td>BASICOS</td>\n",
              "      <td>3.45</td>\n",
              "      <td>2011-01-10 00:00:00.000</td>\n",
              "      <td>COMERCIAL MEXICANA</td>\n",
              "      <td>TIENDA DE AUTOSERVICIO</td>\n",
              "      <td>COMERCIAL MEXICANA SUCURSAL VILLAS DE LA HACIENDA</td>\n",
              "      <td>AV. LAGO DE GUADALUPE S/N ESQ. DE LAS VILLAS</td>\n",
              "      <td>MÉXICO</td>\n",
              "      <td>ATIZAPAN</td>\n",
              "      <td>19.5562</td>\n",
              "      <td>-99.2675</td>\n",
              "    </tr>\n",
              "  </tbody>\n",
              "</table>\n",
              "</div>"
            ],
            "text/plain": [
              "              producto               presentacion  ...  latitud longitud\n",
              "9   PAN BLANCO BOLILLO                      PIEZA  ...  19.5562 -99.2675\n",
              "10    HARINA HOT CAKES               CAJA 800 GR.  ...  19.5562 -99.2675\n",
              "11     PASTA PARA SOPA  PAQUETE 200 GR. SPAGHETTI  ...  19.5562 -99.2675\n",
              "\n",
              "[3 rows x 15 columns]"
            ]
          },
          "metadata": {},
          "execution_count": 17
        }
      ]
    },
    {
      "cell_type": "code",
      "metadata": {
        "id": "a556kqophUJf",
        "colab": {
          "base_uri": "https://localhost:8080/"
        },
        "outputId": "12168892-3a89-44e2-aea9-a11373fdad63"
      },
      "source": [
        "data.info()"
      ],
      "execution_count": 18,
      "outputs": [
        {
          "output_type": "stream",
          "name": "stdout",
          "text": [
            "<class 'pandas.core.frame.DataFrame'>\n",
            "RangeIndex: 1999 entries, 0 to 1998\n",
            "Data columns (total 15 columns):\n",
            " #   Column           Non-Null Count  Dtype  \n",
            "---  ------           --------------  -----  \n",
            " 0   producto         1999 non-null   object \n",
            " 1   presentacion     1999 non-null   object \n",
            " 2   marca            1999 non-null   object \n",
            " 3   categoria        1999 non-null   object \n",
            " 4   catalogo         1999 non-null   object \n",
            " 5   precio           1999 non-null   float64\n",
            " 6   fechaRegistro    1999 non-null   object \n",
            " 7   cadenaComercial  1999 non-null   object \n",
            " 8   giro             1999 non-null   object \n",
            " 9   nombreComercial  1999 non-null   object \n",
            " 10  direccion        1999 non-null   object \n",
            " 11  estado           1999 non-null   object \n",
            " 12  municipio        1999 non-null   object \n",
            " 13  latitud          1999 non-null   float64\n",
            " 14  longitud         1999 non-null   float64\n",
            "dtypes: float64(3), object(12)\n",
            "memory usage: 234.4+ KB\n"
          ]
        }
      ]
    },
    {
      "cell_type": "markdown",
      "metadata": {
        "id": "jQ0Op3EosSMt"
      },
      "source": [
        "# Preguntas"
      ]
    },
    {
      "cell_type": "markdown",
      "metadata": {
        "id": "IFfH1PhCsT-2"
      },
      "source": [
        "How many commercial chains are monitored, and therefore, included in this database?"
      ]
    },
    {
      "cell_type": "code",
      "metadata": {
        "id": "d6GUJbNUsE7t",
        "colab": {
          "base_uri": "https://localhost:8080/"
        },
        "outputId": "7f924777-0a9f-48b5-f0ef-70905ed0eac0"
      },
      "source": [
        "n_cadenas = data.cadenaComercial.nunique()\n",
        "\n",
        "print('There is {n} chains monitored'.format(n=n_cadenas))"
      ],
      "execution_count": 19,
      "outputs": [
        {
          "output_type": "stream",
          "name": "stdout",
          "text": [
            "There is 4 chains monitored\n"
          ]
        }
      ]
    },
    {
      "cell_type": "markdown",
      "metadata": {
        "id": "VgMTwP_es1w-"
      },
      "source": [
        "What are the top 10 monitored products by State?"
      ]
    },
    {
      "cell_type": "code",
      "metadata": {
        "id": "G6DqOyPasYM1",
        "colab": {
          "base_uri": "https://localhost:8080/"
        },
        "outputId": "f5c98c7f-0442-49f5-d530-52bbc946aeb4"
      },
      "source": [
        "data.groupby('estado')['producto'].value_counts().groupby(level=0, group_keys=False).head(10)"
      ],
      "execution_count": 20,
      "outputs": [
        {
          "output_type": "execute_result",
          "data": {
            "text/plain": [
              "estado            producto               \n",
              "DISTRITO FEDERAL  DETERGENTE P/ROPA          25\n",
              "                  LECHE ULTRAPASTEURIZADA    23\n",
              "                  REFRESCO                   22\n",
              "                  CHILES EN LATA             21\n",
              "                  MAYONESA                   20\n",
              "                  SHAMPOO                    18\n",
              "                  TELEVISORES                17\n",
              "                  GALLETAS DULCES            16\n",
              "                  JABON DE TOCADOR           16\n",
              "                  FUD                        14\n",
              "MÉXICO            REFRESCO                   26\n",
              "                  DETERGENTE P/ROPA          24\n",
              "                  SHAMPOO                    19\n",
              "                  CHILES EN LATA             18\n",
              "                  LECHE ULTRAPASTEURIZADA    17\n",
              "                  MAYONESA                   17\n",
              "                  TOALLA FEMENINA            17\n",
              "                  DESODORANTE                15\n",
              "                  TELEVISORES                15\n",
              "                  YOGHURT                    15\n",
              "Name: producto, dtype: int64"
            ]
          },
          "metadata": {},
          "execution_count": 20
        }
      ]
    },
    {
      "cell_type": "markdown",
      "metadata": {
        "id": "DUHUyFSE6hXY"
      },
      "source": [
        "Which is the commercial chain with the highest number of monitored products?"
      ]
    },
    {
      "cell_type": "code",
      "metadata": {
        "id": "AvOEdVTQ6FX3",
        "colab": {
          "base_uri": "https://localhost:8080/"
        },
        "outputId": "534f75a5-05c1-4b6f-db32-3a40b9ab37e6"
      },
      "source": [
        "data.groupby('cadenaComercial')['producto'].nunique().sort_values(ascending=False)"
      ],
      "execution_count": 21,
      "outputs": [
        {
          "output_type": "execute_result",
          "data": {
            "text/plain": [
              "cadenaComercial\n",
              "COMERCIAL MEXICANA    310\n",
              "WAL-MART              159\n",
              "I.S.S.S.T.E.           73\n",
              "ABASTECEDORA LUMEN      6\n",
              "Name: producto, dtype: int64"
            ]
          },
          "metadata": {},
          "execution_count": 21
        }
      ]
    },
    {
      "cell_type": "code",
      "metadata": {
        "id": "XgJmszoc9q7Q"
      },
      "source": [
        "cadena = data.groupby('cadenaComercial')['producto'].nunique().sort_values(ascending=False).head(1).index[0]"
      ],
      "execution_count": 22,
      "outputs": []
    },
    {
      "cell_type": "code",
      "metadata": {
        "id": "zNHDMdI47dW_",
        "colab": {
          "base_uri": "https://localhost:8080/"
        },
        "outputId": "29dd1f38-6319-415c-d5e1-5c8d1f169ed2"
      },
      "source": [
        "print('The commercial chain with the highest number of monitores products is {cc} '.format(cc=cadena))"
      ],
      "execution_count": 23,
      "outputs": [
        {
          "output_type": "stream",
          "name": "stdout",
          "text": [
            "The commercial chain with the highest number of monitores products is COMERCIAL MEXICANA \n"
          ]
        }
      ]
    },
    {
      "cell_type": "markdown",
      "metadata": {
        "id": "YgucEJOX9-N8"
      },
      "source": [
        "Use the data to find an interesting fact."
      ]
    },
    {
      "cell_type": "code",
      "metadata": {
        "colab": {
          "base_uri": "https://localhost:8080/"
        },
        "id": "yZkAxCJPecZc",
        "outputId": "dcf95195-523b-4117-9699-36e17229260f"
      },
      "source": [
        "data.groupby('municipio')['precio'].sum().sort_values(ascending=False)"
      ],
      "execution_count": 24,
      "outputs": [
        {
          "output_type": "execute_result",
          "data": {
            "text/plain": [
              "municipio\n",
              "ATIZAPAN        263551.75\n",
              "BENITOJUAREZ    239555.75\n",
              "NAUCALPAN        79717.22\n",
              "IZTACALCO         4383.44\n",
              "TLALPAN            389.80\n",
              "Name: precio, dtype: float64"
            ]
          },
          "metadata": {},
          "execution_count": 24
        }
      ]
    },
    {
      "cell_type": "code",
      "metadata": {
        "id": "SWpHA3Z695kz",
        "colab": {
          "base_uri": "https://localhost:8080/"
        },
        "outputId": "13247b7e-cfbc-4199-bbf5-769c606723fc"
      },
      "source": [
        "data.groupby('cadenaComercial')['marca'].nunique().sort_values(ascending=False)"
      ],
      "execution_count": 26,
      "outputs": [
        {
          "output_type": "execute_result",
          "data": {
            "text/plain": [
              "cadenaComercial\n",
              "COMERCIAL MEXICANA    375\n",
              "WAL-MART              156\n",
              "I.S.S.S.T.E.          116\n",
              "ABASTECEDORA LUMEN      7\n",
              "Name: marca, dtype: int64"
            ]
          },
          "metadata": {},
          "execution_count": 26
        }
      ]
    },
    {
      "cell_type": "markdown",
      "metadata": {
        "id": "7X0bHr2M-CPS"
      },
      "source": [
        "What are the lessons learned from this exercise?"
      ]
    },
    {
      "cell_type": "code",
      "metadata": {
        "id": "GHkGPKhW-F4H"
      },
      "source": [
        ""
      ],
      "execution_count": null,
      "outputs": []
    },
    {
      "cell_type": "markdown",
      "metadata": {
        "id": "r-PKclyC-HKo"
      },
      "source": [
        "Can you identify other ways to approach this problem? Explain.\n"
      ]
    },
    {
      "cell_type": "code",
      "metadata": {
        "id": "7Rf23JaU-GvB"
      },
      "source": [
        ""
      ],
      "execution_count": null,
      "outputs": []
    },
    {
      "cell_type": "markdown",
      "metadata": {
        "id": "m1PN-1UWChbQ"
      },
      "source": [
        "# Lectura de dataset completo"
      ]
    },
    {
      "cell_type": "code",
      "metadata": {
        "id": "jKJ9xI52IGgc",
        "colab": {
          "base_uri": "https://localhost:8080/"
        },
        "outputId": "32ba0d56-fb5b-4e8b-bf05-bf45ecbbbebf"
      },
      "source": [
        "!pip install PyDrive\n",
        "\n",
        "#Import modules\n",
        "from pydrive.auth import GoogleAuth\n",
        "from pydrive.drive import GoogleDrive\n",
        "from google.colab import auth\n",
        "from oauth2client.client import GoogleCredentials\n",
        "\n",
        "#Authenticate and create the PyDrive client\n",
        "auth.authenticate_user()\n",
        "gauth = GoogleAuth()\n",
        "gauth.credentials = GoogleCredentials.get_application_default()\n",
        "drive = GoogleDrive(gauth)\n"
      ],
      "execution_count": 2,
      "outputs": [
        {
          "output_type": "stream",
          "name": "stdout",
          "text": [
            "Requirement already satisfied: PyDrive in /usr/local/lib/python3.7/dist-packages (1.3.1)\n",
            "Requirement already satisfied: oauth2client>=4.0.0 in /usr/local/lib/python3.7/dist-packages (from PyDrive) (4.1.3)\n",
            "Requirement already satisfied: google-api-python-client>=1.2 in /usr/local/lib/python3.7/dist-packages (from PyDrive) (1.12.8)\n",
            "Requirement already satisfied: PyYAML>=3.0 in /usr/local/lib/python3.7/dist-packages (from PyDrive) (3.13)\n",
            "Requirement already satisfied: google-auth-httplib2>=0.0.3 in /usr/local/lib/python3.7/dist-packages (from google-api-python-client>=1.2->PyDrive) (0.0.4)\n",
            "Requirement already satisfied: six<2dev,>=1.13.0 in /usr/local/lib/python3.7/dist-packages (from google-api-python-client>=1.2->PyDrive) (1.15.0)\n",
            "Requirement already satisfied: google-api-core<2dev,>=1.21.0 in /usr/local/lib/python3.7/dist-packages (from google-api-python-client>=1.2->PyDrive) (1.26.3)\n",
            "Requirement already satisfied: google-auth>=1.16.0 in /usr/local/lib/python3.7/dist-packages (from google-api-python-client>=1.2->PyDrive) (1.35.0)\n",
            "Requirement already satisfied: httplib2<1dev,>=0.15.0 in /usr/local/lib/python3.7/dist-packages (from google-api-python-client>=1.2->PyDrive) (0.17.4)\n",
            "Requirement already satisfied: uritemplate<4dev,>=3.0.0 in /usr/local/lib/python3.7/dist-packages (from google-api-python-client>=1.2->PyDrive) (3.0.1)\n",
            "Requirement already satisfied: protobuf>=3.12.0 in /usr/local/lib/python3.7/dist-packages (from google-api-core<2dev,>=1.21.0->google-api-python-client>=1.2->PyDrive) (3.17.3)\n",
            "Requirement already satisfied: setuptools>=40.3.0 in /usr/local/lib/python3.7/dist-packages (from google-api-core<2dev,>=1.21.0->google-api-python-client>=1.2->PyDrive) (57.4.0)\n",
            "Requirement already satisfied: requests<3.0.0dev,>=2.18.0 in /usr/local/lib/python3.7/dist-packages (from google-api-core<2dev,>=1.21.0->google-api-python-client>=1.2->PyDrive) (2.23.0)\n",
            "Requirement already satisfied: pytz in /usr/local/lib/python3.7/dist-packages (from google-api-core<2dev,>=1.21.0->google-api-python-client>=1.2->PyDrive) (2018.9)\n",
            "Requirement already satisfied: packaging>=14.3 in /usr/local/lib/python3.7/dist-packages (from google-api-core<2dev,>=1.21.0->google-api-python-client>=1.2->PyDrive) (21.0)\n",
            "Requirement already satisfied: googleapis-common-protos<2.0dev,>=1.6.0 in /usr/local/lib/python3.7/dist-packages (from google-api-core<2dev,>=1.21.0->google-api-python-client>=1.2->PyDrive) (1.53.0)\n",
            "Requirement already satisfied: cachetools<5.0,>=2.0.0 in /usr/local/lib/python3.7/dist-packages (from google-auth>=1.16.0->google-api-python-client>=1.2->PyDrive) (4.2.4)\n",
            "Requirement already satisfied: pyasn1-modules>=0.2.1 in /usr/local/lib/python3.7/dist-packages (from google-auth>=1.16.0->google-api-python-client>=1.2->PyDrive) (0.2.8)\n",
            "Requirement already satisfied: rsa<5,>=3.1.4 in /usr/local/lib/python3.7/dist-packages (from google-auth>=1.16.0->google-api-python-client>=1.2->PyDrive) (4.7.2)\n",
            "Requirement already satisfied: pyasn1>=0.1.7 in /usr/local/lib/python3.7/dist-packages (from oauth2client>=4.0.0->PyDrive) (0.4.8)\n",
            "Requirement already satisfied: pyparsing>=2.0.2 in /usr/local/lib/python3.7/dist-packages (from packaging>=14.3->google-api-core<2dev,>=1.21.0->google-api-python-client>=1.2->PyDrive) (2.4.7)\n",
            "Requirement already satisfied: chardet<4,>=3.0.2 in /usr/local/lib/python3.7/dist-packages (from requests<3.0.0dev,>=2.18.0->google-api-core<2dev,>=1.21.0->google-api-python-client>=1.2->PyDrive) (3.0.4)\n",
            "Requirement already satisfied: urllib3!=1.25.0,!=1.25.1,<1.26,>=1.21.1 in /usr/local/lib/python3.7/dist-packages (from requests<3.0.0dev,>=2.18.0->google-api-core<2dev,>=1.21.0->google-api-python-client>=1.2->PyDrive) (1.24.3)\n",
            "Requirement already satisfied: certifi>=2017.4.17 in /usr/local/lib/python3.7/dist-packages (from requests<3.0.0dev,>=2.18.0->google-api-core<2dev,>=1.21.0->google-api-python-client>=1.2->PyDrive) (2021.5.30)\n",
            "Requirement already satisfied: idna<3,>=2.5 in /usr/local/lib/python3.7/dist-packages (from requests<3.0.0dev,>=2.18.0->google-api-core<2dev,>=1.21.0->google-api-python-client>=1.2->PyDrive) (2.10)\n"
          ]
        }
      ]
    },
    {
      "cell_type": "code",
      "metadata": {
        "id": "0I-VttnOH4b1"
      },
      "source": [
        "downloaded = drive.CreateFile({'id':\"1crFR4yrS_6DV3_Fh-HrhANJg1-qlyE-O\"})   \n",
        "downloaded.GetContentFile('profeco.zip')     "
      ],
      "execution_count": 4,
      "outputs": []
    },
    {
      "cell_type": "code",
      "metadata": {
        "id": "QZdB_2AGVz8G"
      },
      "source": [
        "import pandas as pd"
      ],
      "execution_count": 3,
      "outputs": []
    },
    {
      "cell_type": "code",
      "metadata": {
        "colab": {
          "base_uri": "https://localhost:8080/"
        },
        "id": "lS6o5o6ZPSFH",
        "outputId": "ad4a6bbd-50a2-4525-a8d2-2e4dc20968f9"
      },
      "source": [
        "import zipfile\n",
        "zf = zipfile.ZipFile('profeco.zip') \n",
        "# if you want to see all files inside zip folder\n",
        "zf.namelist() \n",
        "# now read your csv file \n",
        "all_data = pd.read_csv(zf.open('all_data.csv'))"
      ],
      "execution_count": 6,
      "outputs": [
        {
          "output_type": "execute_result",
          "data": {
            "text/plain": [
              "['all_data.csv']"
            ]
          },
          "metadata": {},
          "execution_count": 6
        }
      ]
    },
    {
      "cell_type": "code",
      "metadata": {
        "colab": {
          "base_uri": "https://localhost:8080/",
          "height": 198
        },
        "id": "1SUgwn4qViy0",
        "outputId": "4bee1fbc-b061-4965-afce-779c19724daa"
      },
      "source": [
        "# now read your csv file\n",
        "chunksize = 10 ** 6\n",
        "for chunk in pd.read_csv(zf.open('all_data.csv'), chunksize=chunksize):\n",
        "    process(chunk)"
      ],
      "execution_count": 8,
      "outputs": [
        {
          "output_type": "error",
          "ename": "NameError",
          "evalue": "ignored",
          "traceback": [
            "\u001b[0;31m---------------------------------------------------------------------------\u001b[0m",
            "\u001b[0;31mNameError\u001b[0m                                 Traceback (most recent call last)",
            "\u001b[0;32m<ipython-input-8-663c31ef149b>\u001b[0m in \u001b[0;36m<module>\u001b[0;34m()\u001b[0m\n\u001b[1;32m      2\u001b[0m \u001b[0mchunksize\u001b[0m \u001b[0;34m=\u001b[0m \u001b[0;36m10\u001b[0m \u001b[0;34m**\u001b[0m \u001b[0;36m6\u001b[0m\u001b[0;34m\u001b[0m\u001b[0;34m\u001b[0m\u001b[0m\n\u001b[1;32m      3\u001b[0m \u001b[0;32mfor\u001b[0m \u001b[0mchunk\u001b[0m \u001b[0;32min\u001b[0m \u001b[0mpd\u001b[0m\u001b[0;34m.\u001b[0m\u001b[0mread_csv\u001b[0m\u001b[0;34m(\u001b[0m\u001b[0mzf\u001b[0m\u001b[0;34m.\u001b[0m\u001b[0mopen\u001b[0m\u001b[0;34m(\u001b[0m\u001b[0;34m'all_data.csv'\u001b[0m\u001b[0;34m)\u001b[0m\u001b[0;34m,\u001b[0m \u001b[0mchunksize\u001b[0m\u001b[0;34m=\u001b[0m\u001b[0mchunksize\u001b[0m\u001b[0;34m)\u001b[0m\u001b[0;34m:\u001b[0m\u001b[0;34m\u001b[0m\u001b[0;34m\u001b[0m\u001b[0m\n\u001b[0;32m----> 4\u001b[0;31m     \u001b[0mprocess\u001b[0m\u001b[0;34m(\u001b[0m\u001b[0mchunk\u001b[0m\u001b[0;34m)\u001b[0m\u001b[0;34m\u001b[0m\u001b[0;34m\u001b[0m\u001b[0m\n\u001b[0m",
            "\u001b[0;31mNameError\u001b[0m: name 'process' is not defined"
          ]
        }
      ]
    },
    {
      "cell_type": "code",
      "metadata": {
        "id": "erPCccJPJs7f"
      },
      "source": [
        "#Se mira la informacion del set de datos \n",
        "#número de columnas y filas, nombre de las columnas, datos nulos (en las columnas latitud y longitud), tipos de datos\n",
        "all_data.info()"
      ],
      "execution_count": null,
      "outputs": []
    },
    {
      "cell_type": "code",
      "metadata": {
        "id": "U5ZpVf5uKJAE"
      },
      "source": [
        "all_data.municipio.unique()"
      ],
      "execution_count": null,
      "outputs": []
    },
    {
      "cell_type": "code",
      "metadata": {
        "id": "iMfWgT-PJw10"
      },
      "source": [
        "#Se limpian los espacios de la columna municio\n",
        "all_data['municipio'] = all_data['municipio'].str.replace(' ','')"
      ],
      "execution_count": null,
      "outputs": []
    },
    {
      "cell_type": "code",
      "metadata": {
        "id": "-xCYYWI3KBGZ"
      },
      "source": [
        "#Se valida cuales municipios tienen la longitud nula\n",
        "all_data[all_data['longitud'].isnull()].municipio.unique()"
      ],
      "execution_count": null,
      "outputs": []
    },
    {
      "cell_type": "code",
      "metadata": {
        "id": "sX9oowAFKBGZ"
      },
      "source": [
        "#Se valida cuales municipios tienen la latitud nula\n",
        "all_data[all_data['latitud'].isnull()].municipio.unique()"
      ],
      "execution_count": null,
      "outputs": []
    }
  ]
}