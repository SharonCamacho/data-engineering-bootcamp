{
 "cells": [
  {
   "cell_type": "code",
   "execution_count": 15,
   "metadata": {
    "id": "s8B77C1kJl9y"
   },
   "outputs": [],
   "source": [
    "import pandas as pd\n",
    "import seaborn as sns\n",
    "from matplotlib import pyplot"
   ]
  },
  {
   "cell_type": "markdown",
   "metadata": {
    "id": "Qn6kPomBCeDK"
   },
   "source": [
    "# Análisis inicial"
   ]
  },
  {
   "cell_type": "code",
   "execution_count": 2,
   "metadata": {
    "id": "7MCv5fWBgO2v"
   },
   "outputs": [],
   "source": [
    "#Se leen los datos\n",
    "data = pd.read_csv('sample.csv')"
   ]
  },
  {
   "cell_type": "code",
   "execution_count": 3,
   "metadata": {
    "colab": {
     "base_uri": "https://localhost:8080/",
     "height": 513
    },
    "id": "AalqK8IjgWYD",
    "outputId": "6864f96f-a286-4428-f3b3-b19857a976d7"
   },
   "outputs": [
    {
     "data": {
      "text/html": [
       "<div>\n",
       "<style scoped>\n",
       "    .dataframe tbody tr th:only-of-type {\n",
       "        vertical-align: middle;\n",
       "    }\n",
       "\n",
       "    .dataframe tbody tr th {\n",
       "        vertical-align: top;\n",
       "    }\n",
       "\n",
       "    .dataframe thead th {\n",
       "        text-align: right;\n",
       "    }\n",
       "</style>\n",
       "<table border=\"1\" class=\"dataframe\">\n",
       "  <thead>\n",
       "    <tr style=\"text-align: right;\">\n",
       "      <th></th>\n",
       "      <th>producto</th>\n",
       "      <th>presentacion</th>\n",
       "      <th>marca</th>\n",
       "      <th>categoria</th>\n",
       "      <th>catalogo</th>\n",
       "      <th>precio</th>\n",
       "      <th>fechaRegistro</th>\n",
       "      <th>cadenaComercial</th>\n",
       "      <th>giro</th>\n",
       "      <th>nombreComercial</th>\n",
       "      <th>direccion</th>\n",
       "      <th>estado</th>\n",
       "      <th>municipio</th>\n",
       "      <th>latitud</th>\n",
       "      <th>longitud</th>\n",
       "    </tr>\n",
       "  </thead>\n",
       "  <tbody>\n",
       "    <tr>\n",
       "      <th>0</th>\n",
       "      <td>CUADERNO FORMA ITALIANA</td>\n",
       "      <td>96 HOJAS PASTA DURA. CUADRICULA CHICA</td>\n",
       "      <td>ESTRELLA</td>\n",
       "      <td>MATERIAL ESCOLAR</td>\n",
       "      <td>UTILES ESCOLARES</td>\n",
       "      <td>25.9</td>\n",
       "      <td>2011-05-18 00:00:00.000</td>\n",
       "      <td>ABASTECEDORA LUMEN</td>\n",
       "      <td>PAPELERIAS</td>\n",
       "      <td>ABASTECEDORA LUMEN SUCURSAL VILLA COAPA</td>\n",
       "      <td>CANNES No. 6 ESQ. CANAL DE MIRAMONTES</td>\n",
       "      <td>DISTRITO FEDERAL</td>\n",
       "      <td>TLALPAN</td>\n",
       "      <td>19.29699</td>\n",
       "      <td>-99.125417</td>\n",
       "    </tr>\n",
       "    <tr>\n",
       "      <th>1</th>\n",
       "      <td>CRAYONES</td>\n",
       "      <td>CAJA 12 CERAS. JUMBO. C.B. 201423</td>\n",
       "      <td>CRAYOLA</td>\n",
       "      <td>MATERIAL ESCOLAR</td>\n",
       "      <td>UTILES ESCOLARES</td>\n",
       "      <td>27.5</td>\n",
       "      <td>2011-05-18 00:00:00.000</td>\n",
       "      <td>ABASTECEDORA LUMEN</td>\n",
       "      <td>PAPELERIAS</td>\n",
       "      <td>ABASTECEDORA LUMEN SUCURSAL VILLA COAPA</td>\n",
       "      <td>CANNES No. 6 ESQ. CANAL DE MIRAMONTES</td>\n",
       "      <td>DISTRITO FEDERAL</td>\n",
       "      <td>TLALPAN</td>\n",
       "      <td>19.29699</td>\n",
       "      <td>-99.125417</td>\n",
       "    </tr>\n",
       "    <tr>\n",
       "      <th>2</th>\n",
       "      <td>CRAYONES</td>\n",
       "      <td>CAJA 12 CERAS. TAMANO REGULAR C.B. 201034</td>\n",
       "      <td>CRAYOLA</td>\n",
       "      <td>MATERIAL ESCOLAR</td>\n",
       "      <td>UTILES ESCOLARES</td>\n",
       "      <td>13.9</td>\n",
       "      <td>2011-05-18 00:00:00.000</td>\n",
       "      <td>ABASTECEDORA LUMEN</td>\n",
       "      <td>PAPELERIAS</td>\n",
       "      <td>ABASTECEDORA LUMEN SUCURSAL VILLA COAPA</td>\n",
       "      <td>CANNES No. 6 ESQ. CANAL DE MIRAMONTES</td>\n",
       "      <td>DISTRITO FEDERAL</td>\n",
       "      <td>TLALPAN</td>\n",
       "      <td>19.29699</td>\n",
       "      <td>-99.125417</td>\n",
       "    </tr>\n",
       "    <tr>\n",
       "      <th>3</th>\n",
       "      <td>COLORES DE MADERA</td>\n",
       "      <td>CAJA 12 PIEZAS LARGO. TRIANGULAR. C.B. 640646</td>\n",
       "      <td>PINCELIN</td>\n",
       "      <td>MATERIAL ESCOLAR</td>\n",
       "      <td>UTILES ESCOLARES</td>\n",
       "      <td>46.9</td>\n",
       "      <td>2011-05-18 00:00:00.000</td>\n",
       "      <td>ABASTECEDORA LUMEN</td>\n",
       "      <td>PAPELERIAS</td>\n",
       "      <td>ABASTECEDORA LUMEN SUCURSAL VILLA COAPA</td>\n",
       "      <td>CANNES No. 6 ESQ. CANAL DE MIRAMONTES</td>\n",
       "      <td>DISTRITO FEDERAL</td>\n",
       "      <td>TLALPAN</td>\n",
       "      <td>19.29699</td>\n",
       "      <td>-99.125417</td>\n",
       "    </tr>\n",
       "    <tr>\n",
       "      <th>4</th>\n",
       "      <td>COLOR LARGO</td>\n",
       "      <td>CAJA 36 PIEZAS. CON SACAPUNTAS. 68-4036</td>\n",
       "      <td>CRAYOLA</td>\n",
       "      <td>MATERIAL ESCOLAR</td>\n",
       "      <td>UTILES ESCOLARES</td>\n",
       "      <td>115.0</td>\n",
       "      <td>2011-05-18 00:00:00.000</td>\n",
       "      <td>ABASTECEDORA LUMEN</td>\n",
       "      <td>PAPELERIAS</td>\n",
       "      <td>ABASTECEDORA LUMEN SUCURSAL VILLA COAPA</td>\n",
       "      <td>CANNES No. 6 ESQ. CANAL DE MIRAMONTES</td>\n",
       "      <td>DISTRITO FEDERAL</td>\n",
       "      <td>TLALPAN</td>\n",
       "      <td>19.29699</td>\n",
       "      <td>-99.125417</td>\n",
       "    </tr>\n",
       "  </tbody>\n",
       "</table>\n",
       "</div>"
      ],
      "text/plain": [
       "                  producto  ...   longitud\n",
       "0  CUADERNO FORMA ITALIANA  ... -99.125417\n",
       "1                 CRAYONES  ... -99.125417\n",
       "2                 CRAYONES  ... -99.125417\n",
       "3        COLORES DE MADERA  ... -99.125417\n",
       "4              COLOR LARGO  ... -99.125417\n",
       "\n",
       "[5 rows x 15 columns]"
      ]
     },
     "execution_count": 3,
     "metadata": {},
     "output_type": "execute_result"
    }
   ],
   "source": [
    "#Se visualizan las 5 primeras columnas\n",
    "data.head()"
   ]
  },
  {
   "cell_type": "code",
   "execution_count": 4,
   "metadata": {
    "colab": {
     "base_uri": "https://localhost:8080/"
    },
    "id": "8v-KmEQ6gaLc",
    "outputId": "c54dbfde-9f10-4969-e585-e32fffbdfdde"
   },
   "outputs": [
    {
     "name": "stdout",
     "output_type": "stream",
     "text": [
      "<class 'pandas.core.frame.DataFrame'>\n",
      "RangeIndex: 1999 entries, 0 to 1998\n",
      "Data columns (total 15 columns):\n",
      " #   Column           Non-Null Count  Dtype  \n",
      "---  ------           --------------  -----  \n",
      " 0   producto         1999 non-null   object \n",
      " 1   presentacion     1999 non-null   object \n",
      " 2   marca            1999 non-null   object \n",
      " 3   categoria        1999 non-null   object \n",
      " 4   catalogo         1999 non-null   object \n",
      " 5   precio           1999 non-null   float64\n",
      " 6   fechaRegistro    1999 non-null   object \n",
      " 7   cadenaComercial  1999 non-null   object \n",
      " 8   giro             1999 non-null   object \n",
      " 9   nombreComercial  1999 non-null   object \n",
      " 10  direccion        1999 non-null   object \n",
      " 11  estado           1999 non-null   object \n",
      " 12  municipio        1999 non-null   object \n",
      " 13  latitud          1229 non-null   float64\n",
      " 14  longitud         1229 non-null   float64\n",
      "dtypes: float64(3), object(12)\n",
      "memory usage: 234.4+ KB\n"
     ]
    }
   ],
   "source": [
    "#Se mira la informacion del set de datos \n",
    "#número de columnas y filas, nombre de las columnas, datos nulos (en las columnas latitud y longitud), tipos de datos\n",
    "data.info()"
   ]
  },
  {
   "cell_type": "code",
   "execution_count": 5,
   "metadata": {
    "id": "oa7_iI3LhYbV"
   },
   "outputs": [],
   "source": [
    "#Se limpian los espacios de la columna municio\n",
    "data['municipio'] = data['municipio'].str.replace(' ','')"
   ]
  },
  {
   "cell_type": "code",
   "execution_count": 6,
   "metadata": {
    "colab": {
     "base_uri": "https://localhost:8080/"
    },
    "id": "xu6BWKdinj1t",
    "outputId": "207bc8c5-15b1-447d-9195-77b5b80b19ae"
   },
   "outputs": [
    {
     "data": {
      "text/plain": [
       "array(['ATIZAPAN'], dtype=object)"
      ]
     },
     "execution_count": 6,
     "metadata": {},
     "output_type": "execute_result"
    }
   ],
   "source": [
    "#Se valida cuales municipios tienen la longitud nula\n",
    "data[data['longitud'].isnull()].municipio.unique()"
   ]
  },
  {
   "cell_type": "code",
   "execution_count": 7,
   "metadata": {
    "colab": {
     "base_uri": "https://localhost:8080/"
    },
    "id": "BZl1kC85nY1x",
    "outputId": "a50063b4-353a-4a1b-930e-4a596859a2b6"
   },
   "outputs": [
    {
     "data": {
      "text/plain": [
       "array(['ATIZAPAN'], dtype=object)"
      ]
     },
     "execution_count": 7,
     "metadata": {},
     "output_type": "execute_result"
    }
   ],
   "source": [
    "#Se valida cuales municipios tienen la latitud nula\n",
    "data[data['latitud'].isnull()].municipio.unique()"
   ]
  },
  {
   "cell_type": "code",
   "execution_count": 8,
   "metadata": {
    "id": "ML0gblJ6ouzr"
   },
   "outputs": [],
   "source": [
    "#Se completa la información de latitud y longitud de dataset\n",
    "data['latitud'] = data['latitud'].fillna(19.5562)\n",
    "data['longitud'] = data['longitud'].fillna(-99.2675)"
   ]
  },
  {
   "cell_type": "code",
   "execution_count": 9,
   "metadata": {
    "colab": {
     "base_uri": "https://localhost:8080/",
     "height": 366
    },
    "id": "tDpKJZ8mhF2f",
    "outputId": "a15e6708-bc4f-434f-adc0-4adf93912670"
   },
   "outputs": [
    {
     "data": {
      "text/html": [
       "<div>\n",
       "<style scoped>\n",
       "    .dataframe tbody tr th:only-of-type {\n",
       "        vertical-align: middle;\n",
       "    }\n",
       "\n",
       "    .dataframe tbody tr th {\n",
       "        vertical-align: top;\n",
       "    }\n",
       "\n",
       "    .dataframe thead th {\n",
       "        text-align: right;\n",
       "    }\n",
       "</style>\n",
       "<table border=\"1\" class=\"dataframe\">\n",
       "  <thead>\n",
       "    <tr style=\"text-align: right;\">\n",
       "      <th></th>\n",
       "      <th>producto</th>\n",
       "      <th>presentacion</th>\n",
       "      <th>marca</th>\n",
       "      <th>categoria</th>\n",
       "      <th>catalogo</th>\n",
       "      <th>precio</th>\n",
       "      <th>fechaRegistro</th>\n",
       "      <th>cadenaComercial</th>\n",
       "      <th>giro</th>\n",
       "      <th>nombreComercial</th>\n",
       "      <th>direccion</th>\n",
       "      <th>estado</th>\n",
       "      <th>municipio</th>\n",
       "      <th>latitud</th>\n",
       "      <th>longitud</th>\n",
       "    </tr>\n",
       "  </thead>\n",
       "  <tbody>\n",
       "    <tr>\n",
       "      <th>9</th>\n",
       "      <td>PAN BLANCO BOLILLO</td>\n",
       "      <td>PIEZA</td>\n",
       "      <td>S/M</td>\n",
       "      <td>PAN</td>\n",
       "      <td>BASICOS</td>\n",
       "      <td>1.20</td>\n",
       "      <td>2011-01-10 00:00:00.000</td>\n",
       "      <td>COMERCIAL MEXICANA</td>\n",
       "      <td>TIENDA DE AUTOSERVICIO</td>\n",
       "      <td>COMERCIAL MEXICANA SUCURSAL VILLAS DE LA HACIENDA</td>\n",
       "      <td>AV. LAGO DE GUADALUPE S/N ESQ. DE LAS VILLAS</td>\n",
       "      <td>MÉXICO</td>\n",
       "      <td>ATIZAPAN</td>\n",
       "      <td>19.5562</td>\n",
       "      <td>-99.2675</td>\n",
       "    </tr>\n",
       "    <tr>\n",
       "      <th>10</th>\n",
       "      <td>HARINA HOT CAKES</td>\n",
       "      <td>CAJA 800 GR.</td>\n",
       "      <td>PRONTO TRADICIONALES</td>\n",
       "      <td>GALLETAS PASTAS Y HARINAS DE TRIGO</td>\n",
       "      <td>BASICOS</td>\n",
       "      <td>21.63</td>\n",
       "      <td>2011-01-10 00:00:00.000</td>\n",
       "      <td>COMERCIAL MEXICANA</td>\n",
       "      <td>TIENDA DE AUTOSERVICIO</td>\n",
       "      <td>COMERCIAL MEXICANA SUCURSAL VILLAS DE LA HACIENDA</td>\n",
       "      <td>AV. LAGO DE GUADALUPE S/N ESQ. DE LAS VILLAS</td>\n",
       "      <td>MÉXICO</td>\n",
       "      <td>ATIZAPAN</td>\n",
       "      <td>19.5562</td>\n",
       "      <td>-99.2675</td>\n",
       "    </tr>\n",
       "    <tr>\n",
       "      <th>11</th>\n",
       "      <td>PASTA PARA SOPA</td>\n",
       "      <td>PAQUETE 200 GR. SPAGHETTI</td>\n",
       "      <td>VESTA</td>\n",
       "      <td>GALLETAS PASTAS Y HARINAS DE TRIGO</td>\n",
       "      <td>BASICOS</td>\n",
       "      <td>3.45</td>\n",
       "      <td>2011-01-10 00:00:00.000</td>\n",
       "      <td>COMERCIAL MEXICANA</td>\n",
       "      <td>TIENDA DE AUTOSERVICIO</td>\n",
       "      <td>COMERCIAL MEXICANA SUCURSAL VILLAS DE LA HACIENDA</td>\n",
       "      <td>AV. LAGO DE GUADALUPE S/N ESQ. DE LAS VILLAS</td>\n",
       "      <td>MÉXICO</td>\n",
       "      <td>ATIZAPAN</td>\n",
       "      <td>19.5562</td>\n",
       "      <td>-99.2675</td>\n",
       "    </tr>\n",
       "  </tbody>\n",
       "</table>\n",
       "</div>"
      ],
      "text/plain": [
       "              producto               presentacion  ...  latitud longitud\n",
       "9   PAN BLANCO BOLILLO                      PIEZA  ...  19.5562 -99.2675\n",
       "10    HARINA HOT CAKES               CAJA 800 GR.  ...  19.5562 -99.2675\n",
       "11     PASTA PARA SOPA  PAQUETE 200 GR. SPAGHETTI  ...  19.5562 -99.2675\n",
       "\n",
       "[3 rows x 15 columns]"
      ]
     },
     "execution_count": 9,
     "metadata": {},
     "output_type": "execute_result"
    }
   ],
   "source": [
    "#Se valida que se completó la información \n",
    "data[data['municipio']== 'ATIZAPAN'].head(3)"
   ]
  },
  {
   "cell_type": "code",
   "execution_count": 10,
   "metadata": {
    "colab": {
     "base_uri": "https://localhost:8080/"
    },
    "id": "a556kqophUJf",
    "outputId": "3ad05188-0cf6-4d15-b958-4f437ae71146"
   },
   "outputs": [
    {
     "name": "stdout",
     "output_type": "stream",
     "text": [
      "<class 'pandas.core.frame.DataFrame'>\n",
      "RangeIndex: 1999 entries, 0 to 1998\n",
      "Data columns (total 15 columns):\n",
      " #   Column           Non-Null Count  Dtype  \n",
      "---  ------           --------------  -----  \n",
      " 0   producto         1999 non-null   object \n",
      " 1   presentacion     1999 non-null   object \n",
      " 2   marca            1999 non-null   object \n",
      " 3   categoria        1999 non-null   object \n",
      " 4   catalogo         1999 non-null   object \n",
      " 5   precio           1999 non-null   float64\n",
      " 6   fechaRegistro    1999 non-null   object \n",
      " 7   cadenaComercial  1999 non-null   object \n",
      " 8   giro             1999 non-null   object \n",
      " 9   nombreComercial  1999 non-null   object \n",
      " 10  direccion        1999 non-null   object \n",
      " 11  estado           1999 non-null   object \n",
      " 12  municipio        1999 non-null   object \n",
      " 13  latitud          1999 non-null   float64\n",
      " 14  longitud         1999 non-null   float64\n",
      "dtypes: float64(3), object(12)\n",
      "memory usage: 234.4+ KB\n"
     ]
    }
   ],
   "source": [
    "data.info()"
   ]
  },
  {
   "cell_type": "markdown",
   "metadata": {
    "id": "jQ0Op3EosSMt"
   },
   "source": [
    "# Preguntas"
   ]
  },
  {
   "cell_type": "markdown",
   "metadata": {
    "id": "IFfH1PhCsT-2"
   },
   "source": [
    "How many commercial chains are monitored, and therefore, included in this database?"
   ]
  },
  {
   "cell_type": "code",
   "execution_count": 16,
   "metadata": {
    "colab": {
     "base_uri": "https://localhost:8080/"
    },
    "id": "d6GUJbNUsE7t",
    "outputId": "ed4e3e83-fbbb-4320-d8e1-cf036304ea3f"
   },
   "outputs": [
    {
     "name": "stdout",
     "output_type": "stream",
     "text": [
      "There is 4 chains monitored\n"
     ]
    }
   ],
   "source": [
    "n_cadenas = data.cadenaComercial.nunique()\n",
    "\n",
    "print('There is {n} chains monitored'.format(n=n_cadenas))"
   ]
  },
  {
   "cell_type": "markdown",
   "metadata": {
    "id": "VgMTwP_es1w-"
   },
   "source": [
    "What are the top 10 monitored products by State?"
   ]
  },
  {
   "cell_type": "code",
   "execution_count": 17,
   "metadata": {
    "colab": {
     "base_uri": "https://localhost:8080/"
    },
    "id": "G6DqOyPasYM1",
    "outputId": "01a0e13b-ffb4-4a20-f39d-a6416760d6c6"
   },
   "outputs": [
    {
     "data": {
      "text/plain": [
       "estado            producto               \n",
       "DISTRITO FEDERAL  DETERGENTE P/ROPA          25\n",
       "                  LECHE ULTRAPASTEURIZADA    23\n",
       "                  REFRESCO                   22\n",
       "                  CHILES EN LATA             21\n",
       "                  MAYONESA                   20\n",
       "                  SHAMPOO                    18\n",
       "                  TELEVISORES                17\n",
       "                  GALLETAS DULCES            16\n",
       "                  JABON DE TOCADOR           16\n",
       "                  FUD                        14\n",
       "MÉXICO            REFRESCO                   26\n",
       "                  DETERGENTE P/ROPA          24\n",
       "                  SHAMPOO                    19\n",
       "                  CHILES EN LATA             18\n",
       "                  LECHE ULTRAPASTEURIZADA    17\n",
       "                  MAYONESA                   17\n",
       "                  TOALLA FEMENINA            17\n",
       "                  DESODORANTE                15\n",
       "                  TELEVISORES                15\n",
       "                  YOGHURT                    15\n",
       "Name: producto, dtype: int64"
      ]
     },
     "execution_count": 17,
     "metadata": {},
     "output_type": "execute_result"
    }
   ],
   "source": [
    "data.groupby('estado')['producto'].value_counts().groupby(level=0, group_keys=False).head(10)"
   ]
  },
  {
   "cell_type": "markdown",
   "metadata": {
    "id": "DUHUyFSE6hXY"
   },
   "source": [
    "Which is the commercial chain with the highest number of monitored products?"
   ]
  },
  {
   "cell_type": "code",
   "execution_count": 18,
   "metadata": {
    "id": "AvOEdVTQ6FX3"
   },
   "outputs": [],
   "source": [
    "x = data.groupby('cadenaComercial')['producto'].nunique().sort_values(ascending=False).to_frame().reset_index()"
   ]
  },
  {
   "cell_type": "code",
   "execution_count": 19,
   "metadata": {
    "colab": {
     "base_uri": "https://localhost:8080/",
     "height": 173
    },
    "id": "xttxEuT0Odnb",
    "outputId": "534587d1-abd8-47e0-c6b7-ad7da794d2d3"
   },
   "outputs": [
    {
     "data": {
      "text/html": [
       "<div>\n",
       "<style scoped>\n",
       "    .dataframe tbody tr th:only-of-type {\n",
       "        vertical-align: middle;\n",
       "    }\n",
       "\n",
       "    .dataframe tbody tr th {\n",
       "        vertical-align: top;\n",
       "    }\n",
       "\n",
       "    .dataframe thead th {\n",
       "        text-align: right;\n",
       "    }\n",
       "</style>\n",
       "<table border=\"1\" class=\"dataframe\">\n",
       "  <thead>\n",
       "    <tr style=\"text-align: right;\">\n",
       "      <th></th>\n",
       "      <th>cadenaComercial</th>\n",
       "      <th>producto</th>\n",
       "    </tr>\n",
       "  </thead>\n",
       "  <tbody>\n",
       "    <tr>\n",
       "      <th>0</th>\n",
       "      <td>COMERCIAL MEXICANA</td>\n",
       "      <td>310</td>\n",
       "    </tr>\n",
       "    <tr>\n",
       "      <th>1</th>\n",
       "      <td>WAL-MART</td>\n",
       "      <td>159</td>\n",
       "    </tr>\n",
       "    <tr>\n",
       "      <th>2</th>\n",
       "      <td>I.S.S.S.T.E.</td>\n",
       "      <td>73</td>\n",
       "    </tr>\n",
       "    <tr>\n",
       "      <th>3</th>\n",
       "      <td>ABASTECEDORA LUMEN</td>\n",
       "      <td>6</td>\n",
       "    </tr>\n",
       "  </tbody>\n",
       "</table>\n",
       "</div>"
      ],
      "text/plain": [
       "      cadenaComercial  producto\n",
       "0  COMERCIAL MEXICANA       310\n",
       "1            WAL-MART       159\n",
       "2        I.S.S.S.T.E.        73\n",
       "3  ABASTECEDORA LUMEN         6"
      ]
     },
     "execution_count": 19,
     "metadata": {},
     "output_type": "execute_result"
    }
   ],
   "source": [
    "x"
   ]
  },
  {
   "cell_type": "code",
   "execution_count": 21,
   "metadata": {
    "colab": {
     "base_uri": "https://localhost:8080/",
     "height": 279
    },
    "id": "h03sCkK0OZgj",
    "outputId": "69bfcdda-6a21-4380-c58e-48bccfda6ba8"
   },
   "outputs": [
    {
     "data": {
      "image/png": "[encoded data removed]",
      "text/plain": [
       "<Figure size 1008x288 with 1 Axes>"
      ]
     },
     "metadata": {
      "needs_background": "light"
     },
     "output_type": "display_data"
    }
   ],
   "source": [
    "fix, ax = pyplot.subplots(figsize=(14,4))\n",
    "ax = sns.barplot(x='cadenaComercial',y='producto',data=x)"
   ]
  },
  {
   "cell_type": "code",
   "execution_count": 22,
   "metadata": {
    "id": "XgJmszoc9q7Q"
   },
   "outputs": [],
   "source": [
    "cadena = data.groupby('cadenaComercial')['producto'].nunique().sort_values(ascending=False).head(1).index[0]"
   ]
  },
  {
   "cell_type": "code",
   "execution_count": 23,
   "metadata": {
    "colab": {
     "base_uri": "https://localhost:8080/"
    },
    "id": "zNHDMdI47dW_",
    "outputId": "43c53c9e-bba0-44fa-c284-e6e1ef484a17"
   },
   "outputs": [
    {
     "name": "stdout",
     "output_type": "stream",
     "text": [
      "The commercial chain with the highest number of monitores products is COMERCIAL MEXICANA \n"
     ]
    }
   ],
   "source": [
    "print('The commercial chain with the highest number of monitores products is {cc} '.format(cc=cadena))"
   ]
  },
  {
   "cell_type": "markdown",
   "metadata": {
    "id": "YgucEJOX9-N8"
   },
   "source": [
    "Use the data to find an interesting fact."
   ]
  },
  {
   "cell_type": "code",
   "execution_count": 24,
   "metadata": {
    "colab": {
     "base_uri": "https://localhost:8080/"
    },
    "id": "yZkAxCJPecZc",
    "outputId": "f7acf618-62d3-4a55-de12-c4c4bb370524"
   },
   "outputs": [
    {
     "data": {
      "text/plain": [
       "municipio\n",
       "ATIZAPAN        263551.75\n",
       "BENITOJUAREZ    239555.75\n",
       "NAUCALPAN        79717.22\n",
       "IZTACALCO         4383.44\n",
       "TLALPAN            389.80\n",
       "Name: precio, dtype: float64"
      ]
     },
     "execution_count": 24,
     "metadata": {},
     "output_type": "execute_result"
    }
   ],
   "source": [
    "#Ventas por municipio\n",
    "data.groupby('municipio')['precio'].sum().sort_values(ascending=False)"
   ]
  },
  {
   "cell_type": "code",
   "execution_count": 25,
   "metadata": {
    "colab": {
     "base_uri": "https://localhost:8080/"
    },
    "id": "SWpHA3Z695kz",
    "outputId": "128965c5-7e93-47ff-b309-6f8b4f1687d4"
   },
   "outputs": [
    {
     "data": {
      "text/plain": [
       "cadenaComercial\n",
       "COMERCIAL MEXICANA    375\n",
       "WAL-MART              156\n",
       "I.S.S.S.T.E.          116\n",
       "ABASTECEDORA LUMEN      7\n",
       "Name: marca, dtype: int64"
      ]
     },
     "execution_count": 25,
     "metadata": {},
     "output_type": "execute_result"
    }
   ],
   "source": [
    "#Marcas por cadena comercial\n",
    "data.groupby('cadenaComercial')['marca'].nunique().sort_values(ascending=False)"
   ]
  },
  {
   "cell_type": "code",
   "execution_count": 35,
   "metadata": {
    "colab": {
     "base_uri": "https://localhost:8080/",
     "height": 405
    },
    "id": "bLr8GPTARdtd",
    "outputId": "200b74e9-e6c6-477d-e0dc-07637bede4ba"
   },
   "outputs": [
    {
     "data": {
      "text/plain": [
       "<matplotlib.axes._subplots.AxesSubplot at 0x7f9d19f544d0>"
      ]
     },
     "execution_count": 35,
     "metadata": {},
     "output_type": "execute_result"
    },
    {
     "data": {
      "image/png": "[encoded data removed]",
      "text/plain": [
       "<Figure size 1008x432 with 1 Axes>"
      ]
     },
     "metadata": {
      "needs_background": "light"
     },
     "output_type": "display_data"
    }
   ],
   "source": [
    "#Precios por municipio\n",
    "fix, ax = pyplot.subplots(figsize=(14,6))\n",
    "sns.boxplot(x=\"precio\", y=\"municipio\",\n",
    "            data=data)"
   ]
  },
  {
   "cell_type": "code",
   "execution_count": 60,
   "metadata": {
    "colab": {
     "base_uri": "https://localhost:8080/",
     "height": 810
    },
    "id": "CSmAZHnFRrWF",
    "outputId": "ad238bab-e471-4ae7-c523-18c993b18293"
   },
   "outputs": [
    {
     "data": {
      "text/plain": [
       "<matplotlib.axes._subplots.AxesSubplot at 0x7f9d17363250>"
      ]
     },
     "execution_count": 60,
     "metadata": {},
     "output_type": "execute_result"
    },
    {
     "data": {
      "image/png": "[encoded data removed]",
      "text/plain": [
       "<Figure size 1440x1008 with 1 Axes>"
      ]
     },
     "metadata": {
      "needs_background": "light"
     },
     "output_type": "display_data"
    }
   ],
   "source": [
    "#Precio por categoría\n",
    "fix, ax = pyplot.subplots(figsize=(20,14))\n",
    "sns.boxplot(x=\"precio\", y=\"categoria\",\n",
    "            data=data)"
   ]
  },
  {
   "cell_type": "code",
   "execution_count": 58,
   "metadata": {
    "colab": {
     "base_uri": "https://localhost:8080/",
     "height": 405
    },
    "id": "tjfVuagqSsMp",
    "outputId": "8ee556d2-d9f8-4b96-df4c-2e962f22ee7b"
   },
   "outputs": [
    {
     "data": {
      "text/plain": [
       "<matplotlib.axes._subplots.AxesSubplot at 0x7f9d174d9490>"
      ]
     },
     "execution_count": 58,
     "metadata": {},
     "output_type": "execute_result"
    },
    {
     "data": {
      "image/png": "[encoded data removed]",
      "text/plain": [
       "<Figure size 1080x432 with 1 Axes>"
      ]
     },
     "metadata": {
      "needs_background": "light"
     },
     "output_type": "display_data"
    }
   ],
   "source": [
    "#Análisis de la categoría aparatos electrónicos\n",
    "fix, ax = pyplot.subplots(figsize=(15,6))\n",
    "sns.boxplot(x=\"precio\", y=\"municipio\",\n",
    "            data=data[data.categoria=='APARATOS ELECTRONICOS'])"
   ]
  },
  {
   "cell_type": "code",
   "execution_count": 62,
   "metadata": {
    "colab": {
     "base_uri": "https://localhost:8080/",
     "height": 405
    },
    "id": "voycrXT6T3fW",
    "outputId": "f3ced69b-e6f5-406c-d731-f40ea6633270"
   },
   "outputs": [
    {
     "data": {
      "text/plain": [
       "<matplotlib.axes._subplots.AxesSubplot at 0x7f9d16fdc710>"
      ]
     },
     "execution_count": 62,
     "metadata": {},
     "output_type": "execute_result"
    },
    {
     "data": {
      "image/png": "[encoded data removed]",
      "text/plain": [
       "<Figure size 1080x432 with 1 Axes>"
      ]
     },
     "metadata": {
      "needs_background": "light"
     },
     "output_type": "display_data"
    }
   ],
   "source": [
    "fix, ax = pyplot.subplots(figsize=(15,6))\n",
    "sns.boxplot(x=\"precio\", y=\"municipio\",\n",
    "            data=data[data.categoria=='APARATOS ELECTRICOS'])"
   ]
  },
  {
   "cell_type": "code",
   "execution_count": null,
   "metadata": {
    "id": "dTJiUoVTkNrf"
   },
   "outputs": [],
   "source": [
    "#Analisis de categorías vs precio"
   ]
  },
  {
   "cell_type": "code",
   "execution_count": 151,
   "metadata": {
    "id": "IB88PDCsc_SL"
   },
   "outputs": [],
   "source": [
    "precio = data.groupby(['municipio','categoria']).precio.sum().to_frame()\n",
    "cate = cate = data.groupby(['municipio']).categoria.value_counts().groupby(level=0, group_keys=False).head(3).to_frame()"
   ]
  },
  {
   "cell_type": "code",
   "execution_count": 152,
   "metadata": {
    "id": "DEdtg98vdQtz"
   },
   "outputs": [],
   "source": [
    "final = pd.merge(cate,precio, left_index=True, right_index=True, how='left')\n",
    "final.rename(columns={'categoria':'conteo_Cat'},inplace=True)"
   ]
  },
  {
   "cell_type": "code",
   "execution_count": 153,
   "metadata": {
    "colab": {
     "base_uri": "https://localhost:8080/",
     "height": 483
    },
    "id": "0sM49qamgWjc",
    "outputId": "acb4da1f-a72a-467e-e48c-1a72a504a0cf"
   },
   "outputs": [
    {
     "data": {
      "text/html": [
       "<div>\n",
       "<style scoped>\n",
       "    .dataframe tbody tr th:only-of-type {\n",
       "        vertical-align: middle;\n",
       "    }\n",
       "\n",
       "    .dataframe tbody tr th {\n",
       "        vertical-align: top;\n",
       "    }\n",
       "\n",
       "    .dataframe thead th {\n",
       "        text-align: right;\n",
       "    }\n",
       "</style>\n",
       "<table border=\"1\" class=\"dataframe\">\n",
       "  <thead>\n",
       "    <tr style=\"text-align: right;\">\n",
       "      <th></th>\n",
       "      <th></th>\n",
       "      <th>conteo_Cat</th>\n",
       "      <th>precio</th>\n",
       "    </tr>\n",
       "    <tr>\n",
       "      <th>municipio</th>\n",
       "      <th>categoria</th>\n",
       "      <th></th>\n",
       "      <th></th>\n",
       "    </tr>\n",
       "  </thead>\n",
       "  <tbody>\n",
       "    <tr>\n",
       "      <th rowspan=\"3\" valign=\"top\">ATIZAPAN</th>\n",
       "      <th>MEDICAMENTOS</th>\n",
       "      <td>76</td>\n",
       "      <td>14372.82</td>\n",
       "    </tr>\n",
       "    <tr>\n",
       "      <th>ARTS. PARA EL CUIDADO PERSONAL</th>\n",
       "      <td>74</td>\n",
       "      <td>2603.03</td>\n",
       "    </tr>\n",
       "    <tr>\n",
       "      <th>CARNES FRIAS SECAS Y EMBUTIDOS</th>\n",
       "      <td>54</td>\n",
       "      <td>3659.44</td>\n",
       "    </tr>\n",
       "    <tr>\n",
       "      <th rowspan=\"3\" valign=\"top\">BENITOJUAREZ</th>\n",
       "      <th>ARTS. PARA EL CUIDADO PERSONAL</th>\n",
       "      <td>79</td>\n",
       "      <td>2821.35</td>\n",
       "    </tr>\n",
       "    <tr>\n",
       "      <th>CARNES FRIAS SECAS Y EMBUTIDOS</th>\n",
       "      <td>62</td>\n",
       "      <td>4193.07</td>\n",
       "    </tr>\n",
       "    <tr>\n",
       "      <th>DETERGENTES Y PRODUCTOS SIMILARES</th>\n",
       "      <td>47</td>\n",
       "      <td>1326.55</td>\n",
       "    </tr>\n",
       "    <tr>\n",
       "      <th rowspan=\"3\" valign=\"top\">IZTACALCO</th>\n",
       "      <th>DETERGENTES Y PRODUCTOS SIMILARES</th>\n",
       "      <td>23</td>\n",
       "      <td>493.90</td>\n",
       "    </tr>\n",
       "    <tr>\n",
       "      <th>FRUTAS Y LEGUMBRES PROCESADAS</th>\n",
       "      <td>22</td>\n",
       "      <td>290.74</td>\n",
       "    </tr>\n",
       "    <tr>\n",
       "      <th>ARTS. PARA EL CUIDADO PERSONAL</th>\n",
       "      <td>20</td>\n",
       "      <td>578.33</td>\n",
       "    </tr>\n",
       "    <tr>\n",
       "      <th rowspan=\"3\" valign=\"top\">NAUCALPAN</th>\n",
       "      <th>MEDICAMENTOS</th>\n",
       "      <td>31</td>\n",
       "      <td>6579.89</td>\n",
       "    </tr>\n",
       "    <tr>\n",
       "      <th>ARTS. PARA EL CUIDADO PERSONAL</th>\n",
       "      <td>24</td>\n",
       "      <td>944.34</td>\n",
       "    </tr>\n",
       "    <tr>\n",
       "      <th>FRUTAS Y LEGUMBRES PROCESADAS</th>\n",
       "      <td>21</td>\n",
       "      <td>328.90</td>\n",
       "    </tr>\n",
       "    <tr>\n",
       "      <th>TLALPAN</th>\n",
       "      <th>MATERIAL ESCOLAR</th>\n",
       "      <td>9</td>\n",
       "      <td>389.80</td>\n",
       "    </tr>\n",
       "  </tbody>\n",
       "</table>\n",
       "</div>"
      ],
      "text/plain": [
       "                                                conteo_Cat    precio\n",
       "municipio    categoria                                              \n",
       "ATIZAPAN     MEDICAMENTOS                               76  14372.82\n",
       "             ARTS. PARA EL CUIDADO PERSONAL             74   2603.03\n",
       "             CARNES FRIAS SECAS Y EMBUTIDOS             54   3659.44\n",
       "BENITOJUAREZ ARTS. PARA EL CUIDADO PERSONAL             79   2821.35\n",
       "             CARNES FRIAS SECAS Y EMBUTIDOS             62   4193.07\n",
       "             DETERGENTES Y PRODUCTOS SIMILARES          47   1326.55\n",
       "IZTACALCO    DETERGENTES Y PRODUCTOS SIMILARES          23    493.90\n",
       "             FRUTAS Y LEGUMBRES PROCESADAS              22    290.74\n",
       "             ARTS. PARA EL CUIDADO PERSONAL             20    578.33\n",
       "NAUCALPAN    MEDICAMENTOS                               31   6579.89\n",
       "             ARTS. PARA EL CUIDADO PERSONAL             24    944.34\n",
       "             FRUTAS Y LEGUMBRES PROCESADAS              21    328.90\n",
       "TLALPAN      MATERIAL ESCOLAR                            9    389.80"
      ]
     },
     "execution_count": 153,
     "metadata": {},
     "output_type": "execute_result"
    }
   ],
   "source": [
    "final"
   ]
  },
  {
   "cell_type": "markdown",
   "metadata": {
    "id": "7X0bHr2M-CPS"
   },
   "source": [
    "What are the lessons learned from this exercise?\n",
    "\n",
    "\n",
    "\n"
   ]
  },
  {
   "cell_type": "code",
   "execution_count": null,
   "metadata": {
    "id": "GHkGPKhW-F4H"
   },
   "outputs": [],
   "source": []
  },
  {
   "cell_type": "markdown",
   "metadata": {
    "id": "r-PKclyC-HKo"
   },
   "source": [
    "Can you identify other ways to approach this problem? Explain.\n"
   ]
  },
  {
   "cell_type": "code",
   "execution_count": null,
   "metadata": {
    "id": "7Rf23JaU-GvB"
   },
   "outputs": [],
   "source": []
  },
  {
   "cell_type": "markdown",
   "metadata": {
    "id": "m1PN-1UWChbQ"
   },
   "source": [
    "# Lectura de dataset completo"
   ]
  },
  {
   "cell_type": "code",
   "execution_count": null,
   "metadata": {
    "colab": {
     "base_uri": "https://localhost:8080/"
    },
    "id": "jKJ9xI52IGgc",
    "outputId": "32ba0d56-fb5b-4e8b-bf05-bf45ecbbbebf"
   },
   "outputs": [
    {
     "name": "stdout",
     "output_type": "stream",
     "text": [
      "Requirement already satisfied: PyDrive in /usr/local/lib/python3.7/dist-packages (1.3.1)\n",
      "Requirement already satisfied: oauth2client>=4.0.0 in /usr/local/lib/python3.7/dist-packages (from PyDrive) (4.1.3)\n",
      "Requirement already satisfied: google-api-python-client>=1.2 in /usr/local/lib/python3.7/dist-packages (from PyDrive) (1.12.8)\n",
      "Requirement already satisfied: PyYAML>=3.0 in /usr/local/lib/python3.7/dist-packages (from PyDrive) (3.13)\n",
      "Requirement already satisfied: google-auth-httplib2>=0.0.3 in /usr/local/lib/python3.7/dist-packages (from google-api-python-client>=1.2->PyDrive) (0.0.4)\n",
      "Requirement already satisfied: six<2dev,>=1.13.0 in /usr/local/lib/python3.7/dist-packages (from google-api-python-client>=1.2->PyDrive) (1.15.0)\n",
      "Requirement already satisfied: google-api-core<2dev,>=1.21.0 in /usr/local/lib/python3.7/dist-packages (from google-api-python-client>=1.2->PyDrive) (1.26.3)\n",
      "Requirement already satisfied: google-auth>=1.16.0 in /usr/local/lib/python3.7/dist-packages (from google-api-python-client>=1.2->PyDrive) (1.35.0)\n",
      "Requirement already satisfied: httplib2<1dev,>=0.15.0 in /usr/local/lib/python3.7/dist-packages (from google-api-python-client>=1.2->PyDrive) (0.17.4)\n",
      "Requirement already satisfied: uritemplate<4dev,>=3.0.0 in /usr/local/lib/python3.7/dist-packages (from google-api-python-client>=1.2->PyDrive) (3.0.1)\n",
      "Requirement already satisfied: protobuf>=3.12.0 in /usr/local/lib/python3.7/dist-packages (from google-api-core<2dev,>=1.21.0->google-api-python-client>=1.2->PyDrive) (3.17.3)\n",
      "Requirement already satisfied: setuptools>=40.3.0 in /usr/local/lib/python3.7/dist-packages (from google-api-core<2dev,>=1.21.0->google-api-python-client>=1.2->PyDrive) (57.4.0)\n",
      "Requirement already satisfied: requests<3.0.0dev,>=2.18.0 in /usr/local/lib/python3.7/dist-packages (from google-api-core<2dev,>=1.21.0->google-api-python-client>=1.2->PyDrive) (2.23.0)\n",
      "Requirement already satisfied: pytz in /usr/local/lib/python3.7/dist-packages (from google-api-core<2dev,>=1.21.0->google-api-python-client>=1.2->PyDrive) (2018.9)\n",
      "Requirement already satisfied: packaging>=14.3 in /usr/local/lib/python3.7/dist-packages (from google-api-core<2dev,>=1.21.0->google-api-python-client>=1.2->PyDrive) (21.0)\n",
      "Requirement already satisfied: googleapis-common-protos<2.0dev,>=1.6.0 in /usr/local/lib/python3.7/dist-packages (from google-api-core<2dev,>=1.21.0->google-api-python-client>=1.2->PyDrive) (1.53.0)\n",
      "Requirement already satisfied: cachetools<5.0,>=2.0.0 in /usr/local/lib/python3.7/dist-packages (from google-auth>=1.16.0->google-api-python-client>=1.2->PyDrive) (4.2.4)\n",
      "Requirement already satisfied: pyasn1-modules>=0.2.1 in /usr/local/lib/python3.7/dist-packages (from google-auth>=1.16.0->google-api-python-client>=1.2->PyDrive) (0.2.8)\n",
      "Requirement already satisfied: rsa<5,>=3.1.4 in /usr/local/lib/python3.7/dist-packages (from google-auth>=1.16.0->google-api-python-client>=1.2->PyDrive) (4.7.2)\n",
      "Requirement already satisfied: pyasn1>=0.1.7 in /usr/local/lib/python3.7/dist-packages (from oauth2client>=4.0.0->PyDrive) (0.4.8)\n",
      "Requirement already satisfied: pyparsing>=2.0.2 in /usr/local/lib/python3.7/dist-packages (from packaging>=14.3->google-api-core<2dev,>=1.21.0->google-api-python-client>=1.2->PyDrive) (2.4.7)\n",
      "Requirement already satisfied: chardet<4,>=3.0.2 in /usr/local/lib/python3.7/dist-packages (from requests<3.0.0dev,>=2.18.0->google-api-core<2dev,>=1.21.0->google-api-python-client>=1.2->PyDrive) (3.0.4)\n",
      "Requirement already satisfied: urllib3!=1.25.0,!=1.25.1,<1.26,>=1.21.1 in /usr/local/lib/python3.7/dist-packages (from requests<3.0.0dev,>=2.18.0->google-api-core<2dev,>=1.21.0->google-api-python-client>=1.2->PyDrive) (1.24.3)\n",
      "Requirement already satisfied: certifi>=2017.4.17 in /usr/local/lib/python3.7/dist-packages (from requests<3.0.0dev,>=2.18.0->google-api-core<2dev,>=1.21.0->google-api-python-client>=1.2->PyDrive) (2021.5.30)\n",
      "Requirement already satisfied: idna<3,>=2.5 in /usr/local/lib/python3.7/dist-packages (from requests<3.0.0dev,>=2.18.0->google-api-core<2dev,>=1.21.0->google-api-python-client>=1.2->PyDrive) (2.10)\n"
     ]
    }
   ],
   "source": [
    "!pip install PyDrive\n",
    "\n",
    "#Import modules\n",
    "from pydrive.auth import GoogleAuth\n",
    "from pydrive.drive import GoogleDrive\n",
    "from google.colab import auth\n",
    "from oauth2client.client import GoogleCredentials\n",
    "\n",
    "#Authenticate and create the PyDrive client\n",
    "auth.authenticate_user()\n",
    "gauth = GoogleAuth()\n",
    "gauth.credentials = GoogleCredentials.get_application_default()\n",
    "drive = GoogleDrive(gauth)\n"
   ]
  },
  {
   "cell_type": "code",
   "execution_count": null,
   "metadata": {
    "id": "0I-VttnOH4b1"
   },
   "outputs": [],
   "source": [
    "downloaded = drive.CreateFile({'id':\"1crFR4yrS_6DV3_Fh-HrhANJg1-qlyE-O\"})   \n",
    "downloaded.GetContentFile('profeco.zip')     "
   ]
  },
  {
   "cell_type": "code",
   "execution_count": null,
   "metadata": {
    "id": "QZdB_2AGVz8G"
   },
   "outputs": [],
   "source": [
    "import pandas as pd"
   ]
  },
  {
   "cell_type": "code",
   "execution_count": null,
   "metadata": {
    "colab": {
     "base_uri": "https://localhost:8080/"
    },
    "id": "lS6o5o6ZPSFH",
    "outputId": "ad4a6bbd-50a2-4525-a8d2-2e4dc20968f9"
   },
   "outputs": [
    {
     "data": {
      "text/plain": [
       "['all_data.csv']"
      ]
     },
     "execution_count": 6,
     "metadata": {},
     "output_type": "execute_result"
    }
   ],
   "source": [
    "#Unzip data\n",
    "import zipfile\n",
    "\n",
    "zf = zipfile.ZipFile('profeco.zip') \n",
    "\n",
    "all_data = pd.read_csv(zf.open('all_data.csv'))"
   ]
  },
  {
   "cell_type": "code",
   "execution_count": null,
   "metadata": {
    "id": "XI9odj0YPMTR"
   },
   "outputs": [],
   "source": [
    "#Se lee la data en chunks\n",
    "chunk = pd.read_csv(zf.open('all_data.csv'),chunksize=10000)\n",
    "pd_df = pd.concat(chunk)"
   ]
  },
  {
   "cell_type": "code",
   "execution_count": null,
   "metadata": {
    "id": "3aKRuJ9xPTH3"
   },
   "outputs": [],
   "source": [
    "#Se convierte a parquet\n",
    "pd_df.to_parquet('df.parquet.gzip',\n",
    "              compression='gzip') \n"
   ]
  },
  {
   "cell_type": "code",
   "execution_count": null,
   "metadata": {
    "id": "QCoTz_XaPK5s"
   },
   "outputs": [],
   "source": [
    "#Se leen los datos\n",
    "\n",
    "my_data = pd.read_parquet('df.parquet.gzip')  \n",
    "\n",
    "print(my_data.head())"
   ]
  },
  {
   "cell_type": "markdown",
   "metadata": {
    "id": "gjA7t2-iprX4"
   },
   "source": [
    "Por google colab no fue posible, se realiza de forma local."
   ]
  }
 ],
 "metadata": {
  "accelerator": "TPU",
  "colab": {
   "name": "Wizeline.ipynb",
   "provenance": []
  },
  "kernelspec": {
   "display_name": "Python 3",
   "language": "python",
   "name": "python3"
  },
  "language_info": {
   "codemirror_mode": {
    "name": "ipython",
    "version": 3
   },
   "file_extension": ".py",
   "mimetype": "text/x-python",
   "name": "python",
   "nbconvert_exporter": "python",
   "pygments_lexer": "ipython3",
   "version": "3.8.8"
  }
 },
 "nbformat": 4,
 "nbformat_minor": 1
}
